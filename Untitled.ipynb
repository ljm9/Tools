{
 "cells": [
  {
   "cell_type": "code",
   "execution_count": 1,
   "id": "conditional-relation",
   "metadata": {},
   "outputs": [],
   "source": [
    "import gdal"
   ]
  },
  {
   "cell_type": "code",
   "execution_count": 2,
   "id": "dying-habitat",
   "metadata": {},
   "outputs": [
    {
     "name": "stdout",
     "output_type": "stream",
     "text": [
      "Creating output file that is 347P x 512L.\n",
      "Processing /vsis3/eco-w1/in1/Cflux_Cog/CONUS_dem_cog.tif [1/1] : 0...10...20...30...40...50...60...70...80...90...100 - done.\n"
     ]
    }
   ],
   "source": [
    "!gdalwarp -cutline ./Misc_Files/map3.geojson -crop_to_cutline -of GTiff /vsis3/eco-w1/in1/Cflux_Cog/CONUS_dem_cog.tif ./CONUS_dem_cog.tif"
   ]
  },
  {
   "cell_type": "code",
   "execution_count": 3,
   "id": "alone-consequence",
   "metadata": {},
   "outputs": [
    {
     "name": "stdout",
     "output_type": "stream",
     "text": [
      "Creating output file that is 364P x 537L.\n",
      "Processing /vsis3/eco-w1/in1/Cflux_Cog/TPI_2000m_cog.tif [1/1] : 0Using internal nodata values (e.g. -3.40282e+38) for image /vsis3/eco-w1/in1/Cflux_Cog/TPI_2000m_cog.tif.\n",
      "Copying nodata values from source /vsis3/eco-w1/in1/Cflux_Cog/TPI_2000m_cog.tif to destination ./TPI_2000m_cog.tif.\n",
      "...10...20...30...40...50...60...70...80...90...100 - done.\n"
     ]
    }
   ],
   "source": [
    "!gdalwarp -cutline ./Misc_Files/map3.geojson -crop_to_cutline -of GTiff /vsis3/eco-w1/in1/Cflux_Cog/TPI_2000m_cog.tif ./TPI_2000m_cog.tif"
   ]
  },
  {
   "cell_type": "code",
   "execution_count": null,
   "id": "canadian-appearance",
   "metadata": {},
   "outputs": [],
   "source": [
    "!sudo cp ./ppt.tif /home/ubuntu/tosync/ppt.tif"
   ]
  },
  {
   "cell_type": "code",
   "execution_count": null,
   "id": "essential-feelings",
   "metadata": {},
   "outputs": [],
   "source": []
  }
 ],
 "metadata": {
  "kernelspec": {
   "display_name": "Python 3",
   "language": "python",
   "name": "python3"
  },
  "language_info": {
   "codemirror_mode": {
    "name": "ipython",
    "version": 3
   },
   "file_extension": ".py",
   "mimetype": "text/x-python",
   "name": "python",
   "nbconvert_exporter": "python",
   "pygments_lexer": "ipython3",
   "version": "3.7.9"
  }
 },
 "nbformat": 4,
 "nbformat_minor": 5
}
