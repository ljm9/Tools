{
 "cells": [
  {
   "cell_type": "code",
   "execution_count": null,
   "metadata": {},
   "outputs": [],
   "source": [
    "###Import modules\n",
    "import gdal\n",
    "import xarray as xr\n",
    "import folium\n",
    "import hvplot.xarray\n",
    "import matplotlib\n",
    "import matplotlib.pyplot as plt\n",
    "import rasterio\n",
    "from rasterio.plot import show\n",
    "%matplotlib inline\n",
    "import numpy as np\n",
    "import os"
   ]
  },
  {
   "cell_type": "code",
   "execution_count": null,
   "metadata": {},
   "outputs": [],
   "source": [
    "map = folium.Map(location=[40, -110], zoom_start=4.5)\n",
    "aoi_geojson = ('Misc_Files/map_lake.geojson')\n",
    "folium.GeoJson(aoi_geojson).add_to(map)\n",
    "map"
   ]
  },
  {
   "cell_type": "code",
   "execution_count": null,
   "metadata": {},
   "outputs": [],
   "source": [
    "#Loads raster (need vsis3 for gdal from s3)\n",
    "#raster = xr.open_rasterio(\"/vsis3/eco-w1/in1/Cflux_Cog/CONUS_aspect.cog\")"
   ]
  },
  {
   "cell_type": "code",
   "execution_count": null,
   "metadata": {},
   "outputs": [],
   "source": [
    "#type (raster)\n",
    "#raster"
   ]
  },
  {
   "cell_type": "code",
   "execution_count": null,
   "metadata": {},
   "outputs": [],
   "source": [
    "#creates a clip of the cog without downloading the file Jupyter can only hold small files. 30 gb file will kill kernel\n",
    "#!gdalwarp -cutline ./Misc_Files/map_lake.geojson -crop_to_cutline -of GTiff /vsis3/eco-w1/in1/Cflux_Cog/CONUS_slope_cog.tif ./Misc_Files/newname3.tif\n",
    "#!gdalwarp -cutline Misc_Files/map.geojson -crop_to_cutline -of GTiff /vsis3/eco-w1/in1/Cflux_Cog/CONUS_aspect.cog ./Misc_Files/clip.tif"
   ]
  },
  {
   "cell_type": "code",
   "execution_count": null,
   "metadata": {
    "scrolled": true
   },
   "outputs": [],
   "source": [
    "small_raster = xr.open_rasterio('./Misc_Files/clip_test.tif')"
   ]
  },
  {
   "cell_type": "code",
   "execution_count": null,
   "metadata": {},
   "outputs": [],
   "source": [
    "img_figure = small_raster.hvplot.image(dynamic=False,rasterize=True,grid=True, invert=False, width=700, height=350, cmap='plasma')"
   ]
  },
  {
   "cell_type": "code",
   "execution_count": null,
   "metadata": {},
   "outputs": [],
   "source": [
    "img_figure"
   ]
  },
  {
   "cell_type": "code",
   "execution_count": null,
   "metadata": {},
   "outputs": [],
   "source": [
    "raster1 = xr.open_rasterio('./dem2.tif')\n",
    "raster2 = xr.open_rasterio('./dem3.tif')"
   ]
  },
  {
   "cell_type": "code",
   "execution_count": null,
   "metadata": {},
   "outputs": [],
   "source": [
    "fig, (ax1, ax2, ax3) = plt.subplots(ncols=3, nrows=1, figsize=(13, 12), sharey=True)\n",
    "\n",
    "# Plot Red, Green and Blue (rgb)\n",
    "show((raster1), cmap='Reds', ax=ax1)\n",
    "show((raster2), cmap='Greens', ax=ax2)\n",
    "show((raster1 - raster2), cmap='Blues', ax=ax3)\n",
    "\n",
    "# Add titles\n",
    "ax1.set_title(\"Raster Cog\")\n",
    "ax2.set_title(\"Raster Tif\")\n",
    "ax3.set_title(\"Diff\")"
   ]
  },
  {
   "cell_type": "code",
   "execution_count": null,
   "metadata": {},
   "outputs": [],
   "source": [
    "custom_raster = xr.open_rasterio('./PADR_clip2.tif')\n",
    "img_figure2 = custom_raster.hvplot.image(dynamic=False,rasterize=True,grid=True, invert=False, width=750, height=450, cmap='plasma')\n",
    "img_figure2"
   ]
  },
  {
   "cell_type": "code",
   "execution_count": null,
   "metadata": {},
   "outputs": [],
   "source": [
    "img_figure2.hist()"
   ]
  }
 ],
 "metadata": {
  "kernelspec": {
   "display_name": "Python 3",
   "language": "python",
   "name": "python3"
  },
  "language_info": {
   "codemirror_mode": {
    "name": "ipython",
    "version": 3
   },
   "file_extension": ".py",
   "mimetype": "text/x-python",
   "name": "python",
   "nbconvert_exporter": "python",
   "pygments_lexer": "ipython3",
   "version": "3.7.3"
  }
 },
 "nbformat": 4,
 "nbformat_minor": 4
}
