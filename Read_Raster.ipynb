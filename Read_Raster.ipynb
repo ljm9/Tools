{
 "cells": [
  {
   "cell_type": "code",
   "execution_count": null,
   "metadata": {},
   "outputs": [],
   "source": [
    "#Import gdal (need /vsis3/ instead of s3:// to view tifs in gal)\n",
    "# boto3 s3 to view s3 files in rio\n",
    "# ! is for processes used in the command prompt\n",
    "import gdal\n",
    "import boto3, os\n",
    "s3 =boto3.resource('s3')"
   ]
  },
  {
   "cell_type": "code",
   "execution_count": null,
   "metadata": {},
   "outputs": [],
   "source": [
    "## rio info = reads info (rio info [filelocation] | python -m json.tool)\n",
    "## gdal info = reads info (gdalinfo [filelocation]) (needs vsis3 if on s3 bucket)\n",
    "## python 3 cog.py = shows if cog is in correct format. (correct path to ./Misc_Files/validate_cloud_optimized_geotiff.py)"
   ]
  },
  {
   "cell_type": "code",
   "execution_count": null,
   "metadata": {},
   "outputs": [],
   "source": [
    "! rio info /home/ubuntu/tosync/in0/cflux/compound_topographic_index_cog.tif | python -m json.tool"
   ]
  },
  {
   "cell_type": "code",
   "execution_count": null,
   "metadata": {},
   "outputs": [],
   "source": [
    "! rio info /home/ubuntu/tosync/in1/CONUS_dem_cog.tif | python -m json.tool"
   ]
  },
  {
   "cell_type": "code",
   "execution_count": null,
   "metadata": {},
   "outputs": [],
   "source": [
    "! rio info /home/ubuntu/tosync/in1/CONUS_aspect_cog.tif | python -m json.tool | grep crs"
   ]
  },
  {
   "cell_type": "code",
   "execution_count": null,
   "metadata": {
    "scrolled": true
   },
   "outputs": [],
   "source": [
    "!gdalinfo /home/ubuntu/tosync/in0/cflux/compound_topographic_index_cog.tif"
   ]
  },
  {
   "cell_type": "code",
   "execution_count": null,
   "metadata": {
    "scrolled": true
   },
   "outputs": [],
   "source": [
    "!gdalinfo /home/ubuntu/tosync/in0/cflux/compound_topographic_index.tif"
   ]
  },
  {
   "cell_type": "code",
   "execution_count": null,
   "metadata": {},
   "outputs": [],
   "source": [
    "!python3 ./Misc_Files/validate_cloud_optimized_geotiff.py /home/ubuntu/tosync/in0/cflux/compound_topographic_index_cog.tif"
   ]
  },
  {
   "cell_type": "code",
   "execution_count": null,
   "metadata": {},
   "outputs": [],
   "source": [
    "!python3 ./Misc_Files/validate_cloud_optimized_geotiff.py /vsis3/eco-w1/in1/Cflux_Cog/CONUS_dem_cog.tif"
   ]
  },
  {
   "cell_type": "code",
   "execution_count": null,
   "metadata": {},
   "outputs": [],
   "source": []
  }
 ],
 "metadata": {
  "kernelspec": {
   "display_name": "Python 3",
   "language": "python",
   "name": "python3"
  },
  "language_info": {
   "codemirror_mode": {
    "name": "ipython",
    "version": 3
   },
   "file_extension": ".py",
   "mimetype": "text/x-python",
   "name": "python",
   "nbconvert_exporter": "python",
   "pygments_lexer": "ipython3",
   "version": "3.7.3"
  }
 },
 "nbformat": 4,
 "nbformat_minor": 4
}
