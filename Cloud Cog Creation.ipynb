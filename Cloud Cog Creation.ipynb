{
 "cells": [
  {
   "cell_type": "markdown",
   "id": "designed-figure",
   "metadata": {},
   "source": [
    "# Create and validate cog"
   ]
  },
  {
   "cell_type": "markdown",
   "id": "behavioral-blackberry",
   "metadata": {},
   "source": [
    "### Add creates a default value cog for the file. (Transform coordinate system before)"
   ]
  },
  {
   "cell_type": "code",
   "execution_count": 2,
   "id": "strange-beginning",
   "metadata": {},
   "outputs": [],
   "source": [
    "#!rio cogeo create home/ubuntu/tosync/in1/CONUS_slope.tif home/ubuntu/tosync/in1/CONUS_slope_cog.tif"
   ]
  },
  {
   "cell_type": "markdown",
   "id": "smaller-recruitment",
   "metadata": {},
   "source": [
    "### Cog Validation"
   ]
  },
  {
   "cell_type": "code",
   "execution_count": null,
   "id": "stable-approach",
   "metadata": {},
   "outputs": [],
   "source": [
    "#!python3 /Misc_Files/validate_cloud_optimized_geotiff.py /"
   ]
  },
  {
   "cell_type": "code",
   "execution_count": null,
   "id": "assured-wheel",
   "metadata": {},
   "outputs": [],
   "source": []
  }
 ],
 "metadata": {
  "kernelspec": {
   "display_name": "Python 3",
   "language": "python",
   "name": "python3"
  },
  "language_info": {
   "codemirror_mode": {
    "name": "ipython",
    "version": 3
   },
   "file_extension": ".py",
   "mimetype": "text/x-python",
   "name": "python",
   "nbconvert_exporter": "python",
   "pygments_lexer": "ipython3",
   "version": "3.7.9"
  }
 },
 "nbformat": 4,
 "nbformat_minor": 5
}
