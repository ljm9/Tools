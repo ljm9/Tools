{
 "cells": [
  {
   "cell_type": "code",
   "execution_count": null,
   "metadata": {},
   "outputs": [],
   "source": [
    "## Import gdalfor translate and transforms and s3 for aws interaction\n",
    "import gdal\n",
    "import boto3, os\n",
    "s3 =boto3.resource('s3')"
   ]
  },
  {
   "cell_type": "code",
   "execution_count": null,
   "metadata": {},
   "outputs": [],
   "source": [
    "## View all files in a location in AWS\n",
    "## Bucket (eco-w1)\n",
    "#!aws s3 ls eco-w1 --recursive --human --summarize"
   ]
  },
  {
   "cell_type": "code",
   "execution_count": null,
   "metadata": {},
   "outputs": [],
   "source": [
    "## Copies file from s3 to location\n",
    "#!aws s3 cp s3://eco-w1/in0/cflux/CONUS_aspect.cog ./Copy_aspect.cog"
   ]
  },
  {
   "cell_type": "code",
   "execution_count": null,
   "metadata": {},
   "outputs": [],
   "source": [
    "## warp to cutline cuts tif by edge of geojson\n",
    "#!gdalwarp -cutline ./Misc_Files/map_lake.geojson -crop_to_cutline -of GTiff /vsis3/eco-w1/in1/Cflux_Cog/NED_PADR_CONUS2.tif ./PADR_clip2.tif"
   ]
  },
  {
   "cell_type": "code",
   "execution_count": null,
   "metadata": {},
   "outputs": [],
   "source": [
    "## translates file to a compressed 20, 20 file\n",
    "## used to view full tiff at a smaller sample scale\n",
    "#!gdal_translate -co COMPRESS=LZW -outsize 20% 20% /home/ubuntu/tosync/in1/NED_PADR_CONUS2.tif ./PADR2.tif"
   ]
  },
  {
   "cell_type": "code",
   "execution_count": null,
   "metadata": {},
   "outputs": [],
   "source": [
    "## Change EPSG (transform)\n",
    "#!sudo gdalwarp -t_srs EPSG:4326 ./CONUS_slope.tif ./CONUS_slope2.tif"
   ]
  },
  {
   "cell_type": "code",
   "execution_count": null,
   "metadata": {},
   "outputs": [],
   "source": [
    "## Add creates a default value cog for the file. (Transform coordinate system before)\n",
    "#!rio cogeo create home/ubuntu/insync/in1/CONUS_slope.tif home/ubuntu/insync/in1/CONUS_slope_cog.tif"
   ]
  }
 ],
 "metadata": {
  "kernelspec": {
   "display_name": "Python 3",
   "language": "python",
   "name": "python3"
  },
  "language_info": {
   "codemirror_mode": {
    "name": "ipython",
    "version": 3
   },
   "file_extension": ".py",
   "mimetype": "text/x-python",
   "name": "python",
   "nbconvert_exporter": "python",
   "pygments_lexer": "ipython3",
   "version": "3.7.3"
  }
 },
 "nbformat": 4,
 "nbformat_minor": 4
}
