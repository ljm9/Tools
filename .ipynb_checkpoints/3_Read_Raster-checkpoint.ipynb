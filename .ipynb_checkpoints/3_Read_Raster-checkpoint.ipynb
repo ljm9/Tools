{
 "cells": [
  {
   "cell_type": "code",
   "execution_count": 1,
   "metadata": {},
   "outputs": [],
   "source": [
    "#Import gdal (need /vsis3/ instead of s3:// to view tifs in gal)\n",
    "# boto3 s3 to view s3 files in rio\n",
    "# ! is for processes used in the command prompt\n",
    "import gdal\n",
    "import boto3, os\n",
    "s3 =boto3.resource('s3')"
   ]
  },
  {
   "cell_type": "code",
   "execution_count": null,
   "metadata": {},
   "outputs": [],
   "source": [
    "## rio info = reads info (rio info [filelocation] | python -m json.tool)\n",
    "## gdal info = reads info (gdalinfo [filelocation]) (needs vsis3 if on s3 bucket)\n",
    "## python 3 cog.py = shows if cog is in correct format. (correct path to ./Misc_Files/validate_cloud_optimized_geotiff.py)"
   ]
  },
  {
   "cell_type": "code",
   "execution_count": 13,
   "metadata": {
    "collapsed": true
   },
   "outputs": [
    {
     "name": "stdout",
     "output_type": "stream",
     "text": [
      "{\r\n",
      "    \"blockxsize\": 512,\r\n",
      "    \"blockysize\": 512,\r\n",
      "    \"bounds\": [\r\n",
      "        -2356170.0,\r\n",
      "        273060.0,\r\n",
      "        2258760.0,\r\n",
      "        3179430.0\r\n",
      "    ],\r\n",
      "    \"colorinterp\": [\r\n",
      "        \"gray\"\r\n",
      "    ],\r\n",
      "    \"compress\": \"deflate\",\r\n",
      "    \"count\": 1,\r\n",
      "    \"crs\": \"PROJCS[\\\"NAD_1983_Albers\\\",GEOGCS[\\\"NAD83\\\",DATUM[\\\"North_American_Datum_1983\\\",SPHEROID[\\\"GRS 1980\\\",6378137,298.2572221010042,AUTHORITY[\\\"EPSG\\\",\\\"7019\\\"]],AUTHORITY[\\\"EPSG\\\",\\\"6269\\\"]],PRIMEM[\\\"Greenwich\\\",0],UNIT[\\\"degree\\\",0.0174532925199433],AUTHORITY[\\\"EPSG\\\",\\\"4269\\\"]],PROJECTION[\\\"Albers_Conic_Equal_Area\\\"],PARAMETER[\\\"standard_parallel_1\\\",29.5],PARAMETER[\\\"standard_parallel_2\\\",45.5],PARAMETER[\\\"latitude_of_center\\\",23],PARAMETER[\\\"longitude_of_center\\\",-96],PARAMETER[\\\"false_easting\\\",0],PARAMETER[\\\"false_northing\\\",0],UNIT[\\\"metre\\\",1,AUTHORITY[\\\"EPSG\\\",\\\"9001\\\"]]]\",\r\n",
      "    \"descriptions\": [\r\n",
      "        null\r\n",
      "    ],\r\n",
      "    \"driver\": \"GTiff\",\r\n",
      "    \"dtype\": \"float32\",\r\n",
      "    \"height\": 96879,\r\n",
      "    \"indexes\": [\r\n",
      "        1\r\n",
      "    ],\r\n",
      "    \"interleave\": \"band\",\r\n",
      "    \"lnglat\": [\r\n",
      "        -96.5642705609132,\r\n",
      "        38.56452974080966\r\n",
      "    ],\r\n",
      "    \"mask_flags\": [\r\n",
      "        [\r\n",
      "            \"nodata\"\r\n",
      "        ]\r\n",
      "    ],\r\n",
      "    \"nodata\": -3.402823e+38,\r\n",
      "    \"res\": [\r\n",
      "        30.0,\r\n",
      "        30.0\r\n",
      "    ],\r\n",
      "    \"shape\": [\r\n",
      "        96879,\r\n",
      "        153831\r\n",
      "    ],\r\n",
      "    \"tiled\": true,\r\n",
      "    \"transform\": [\r\n",
      "        30.0,\r\n",
      "        0.0,\r\n",
      "        -2356170.0,\r\n",
      "        0.0,\r\n",
      "        -30.0,\r\n",
      "        3179430.0,\r\n",
      "        0.0,\r\n",
      "        0.0,\r\n",
      "        1.0\r\n",
      "    ],\r\n",
      "    \"units\": [\r\n",
      "        null\r\n",
      "    ],\r\n",
      "    \"width\": 153831\r\n",
      "}\r\n"
     ]
    }
   ],
   "source": [
    "! rio info /home/ubuntu/tosync/in0/cflux/compound_topographic_index_cog.tif | python -m json.tool"
   ]
  },
  {
   "cell_type": "code",
   "execution_count": 4,
   "metadata": {
    "collapsed": true
   },
   "outputs": [
    {
     "name": "stdout",
     "output_type": "stream",
     "text": [
      "{\r\n",
      "    \"blockxsize\": 512,\r\n",
      "    \"blockysize\": 512,\r\n",
      "    \"bounds\": [\r\n",
      "        -130.23282801580848,\r\n",
      "        21.74214873297863,\r\n",
      "        -63.67216518454606,\r\n",
      "        52.87693879284186\r\n",
      "    ],\r\n",
      "    \"colorinterp\": [\r\n",
      "        \"gray\"\r\n",
      "    ],\r\n",
      "    \"compress\": \"deflate\",\r\n",
      "    \"count\": 1,\r\n",
      "    \"crs\": \"EPSG:4326\",\r\n",
      "    \"descriptions\": [\r\n",
      "        \"Layer_1\"\r\n",
      "    ],\r\n",
      "    \"driver\": \"GTiff\",\r\n",
      "    \"dtype\": \"float32\",\r\n",
      "    \"height\": 95543,\r\n",
      "    \"indexes\": [\r\n",
      "        1\r\n",
      "    ],\r\n",
      "    \"interleave\": \"band\",\r\n",
      "    \"lnglat\": [\r\n",
      "        -96.95249660017727,\r\n",
      "        37.309543762910245\r\n",
      "    ],\r\n",
      "    \"mask_flags\": [\r\n",
      "        [\r\n",
      "            \"all_valid\"\r\n",
      "        ]\r\n",
      "    ],\r\n",
      "    \"nodata\": null,\r\n",
      "    \"res\": [\r\n",
      "        0.0003258720163681613,\r\n",
      "        0.0003258720163681613\r\n",
      "    ],\r\n",
      "    \"shape\": [\r\n",
      "        95543,\r\n",
      "        204254\r\n",
      "    ],\r\n",
      "    \"tiled\": true,\r\n",
      "    \"transform\": [\r\n",
      "        0.0003258720163681613,\r\n",
      "        0.0,\r\n",
      "        -130.23282801580848,\r\n",
      "        0.0,\r\n",
      "        -0.0003258720163681613,\r\n",
      "        52.87693879284186,\r\n",
      "        0.0,\r\n",
      "        0.0,\r\n",
      "        1.0\r\n",
      "    ],\r\n",
      "    \"units\": [\r\n",
      "        null\r\n",
      "    ],\r\n",
      "    \"width\": 204254\r\n",
      "}\r\n"
     ]
    }
   ],
   "source": [
    "! rio info /home/ubuntu/tosync/in1/CONUS_dem_cog.tif | python -m json.tool"
   ]
  },
  {
   "cell_type": "code",
   "execution_count": 11,
   "metadata": {},
   "outputs": [
    {
     "name": "stdout",
     "output_type": "stream",
     "text": [
      "    \"crs\": \"EPSG:4326\",\r\n"
     ]
    }
   ],
   "source": [
    "! rio info /home/ubuntu/tosync/in1/CONUS_aspect_cog.tif | python -m json.tool | grep crs"
   ]
  },
  {
   "cell_type": "code",
   "execution_count": 14,
   "metadata": {
    "scrolled": true
   },
   "outputs": [
    {
     "name": "stdout",
     "output_type": "stream",
     "text": [
      "Driver: GTiff/GeoTIFF\r\n",
      "Files: /home/ubuntu/tosync/in0/cflux/compound_topographic_index_cog.tif\r\n",
      "Size is 153831, 96879\r\n",
      "Coordinate System is:\r\n",
      "PROJCS[\"NAD_1983_Albers\",\r\n",
      "    GEOGCS[\"NAD83\",\r\n",
      "        DATUM[\"North_American_Datum_1983\",\r\n",
      "            SPHEROID[\"GRS 1980\",6378137,298.2572221010042,\r\n",
      "                AUTHORITY[\"EPSG\",\"7019\"]],\r\n",
      "            AUTHORITY[\"EPSG\",\"6269\"]],\r\n",
      "        PRIMEM[\"Greenwich\",0],\r\n",
      "        UNIT[\"degree\",0.0174532925199433],\r\n",
      "        AUTHORITY[\"EPSG\",\"4269\"]],\r\n",
      "    PROJECTION[\"Albers_Conic_Equal_Area\"],\r\n",
      "    PARAMETER[\"standard_parallel_1\",29.5],\r\n",
      "    PARAMETER[\"standard_parallel_2\",45.5],\r\n",
      "    PARAMETER[\"latitude_of_center\",23],\r\n",
      "    PARAMETER[\"longitude_of_center\",-96],\r\n",
      "    PARAMETER[\"false_easting\",0],\r\n",
      "    PARAMETER[\"false_northing\",0],\r\n",
      "    UNIT[\"metre\",1,\r\n",
      "        AUTHORITY[\"EPSG\",\"9001\"]]]\r\n",
      "Origin = (-2356170.000000000000000,3179430.000000000000000)\r\n",
      "Pixel Size = (30.000000000000000,-30.000000000000000)\r\n",
      "Metadata:\r\n",
      "  AREA_OR_POINT=Area\r\n",
      "  DataType=Generic\r\n",
      "  OVR_RESAMPLING_ALG=NEAREST\r\n",
      "Image Structure Metadata:\r\n",
      "  COMPRESSION=DEFLATE\r\n",
      "  INTERLEAVE=BAND\r\n",
      "Corner Coordinates:\r\n",
      "Upper Left  (-2356170.000, 3179430.000) (127d55' 4.90\"W, 48d 0'59.81\"N)\r\n",
      "Lower Left  (-2356170.000,  273060.000) (118d44'41.85\"W, 22d54'20.28\"N)\r\n",
      "Upper Right ( 2258760.000, 3179430.000) ( 65d18'35.89\"W, 48d18' 9.12\"N)\r\n",
      "Lower Right ( 2258760.000,  273060.000) ( 74d 9'43.04\"W, 23d 6'50.28\"N)\r\n",
      "Center      (  -48705.000, 1726245.000) ( 96d33'51.37\"W, 38d33'52.31\"N)\r\n",
      "Band 1 Block=512x512 Type=Float32, ColorInterp=Gray\r\n",
      "  NoData Value=-3.40282299999999995e+38\r\n",
      "  Overviews: 76916x48440, 38458x24220, 19229x12110, 9615x6055, 4808x3028, 2404x1514, 1202x757, 601x379\r\n"
     ]
    }
   ],
   "source": [
    "!gdalinfo /home/ubuntu/tosync/in0/cflux/compound_topographic_index_cog.tif"
   ]
  },
  {
   "cell_type": "code",
   "execution_count": 11,
   "metadata": {
    "scrolled": true
   },
   "outputs": [
    {
     "name": "stdout",
     "output_type": "stream",
     "text": [
      "Driver: GTiff/GeoTIFF\r\n",
      "Files: /home/ubuntu/tosync/in0/cflux/compound_topographic_index.tif\r\n",
      "       /home/ubuntu/tosync/in0/cflux/compound_topographic_index.tif.ovr\r\n",
      "       /home/ubuntu/tosync/in0/cflux/compound_topographic_index.tif.aux\r\n",
      "       /home/ubuntu/tosync/in0/cflux/compound_topographic_index.tif.aux.xml\r\n",
      "Size is 153831, 96879\r\n",
      "Coordinate System is:\r\n",
      "PROJCS[\"NAD_1983_Albers\",\r\n",
      "    GEOGCS[\"NAD83\",\r\n",
      "        DATUM[\"North_American_Datum_1983\",\r\n",
      "            SPHEROID[\"GRS 1980\",6378137,298.2572221010042,\r\n",
      "                AUTHORITY[\"EPSG\",\"7019\"]],\r\n",
      "            AUTHORITY[\"EPSG\",\"6269\"]],\r\n",
      "        PRIMEM[\"Greenwich\",0],\r\n",
      "        UNIT[\"degree\",0.0174532925199433],\r\n",
      "        AUTHORITY[\"EPSG\",\"4269\"]],\r\n",
      "    PROJECTION[\"Albers_Conic_Equal_Area\"],\r\n",
      "    PARAMETER[\"standard_parallel_1\",29.5],\r\n",
      "    PARAMETER[\"standard_parallel_2\",45.5],\r\n",
      "    PARAMETER[\"latitude_of_center\",23],\r\n",
      "    PARAMETER[\"longitude_of_center\",-96],\r\n",
      "    PARAMETER[\"false_easting\",0],\r\n",
      "    PARAMETER[\"false_northing\",0],\r\n",
      "    UNIT[\"metre\",1,\r\n",
      "        AUTHORITY[\"EPSG\",\"9001\"]]]\r\n",
      "Origin = (-2356170.000000000000000,3179430.000000000000000)\r\n",
      "Pixel Size = (30.000000000000000,-30.000000000000000)\r\n",
      "Metadata:\r\n",
      "  AREA_OR_POINT=Area\r\n",
      "  DataType=Generic\r\n",
      "Image Structure Metadata:\r\n",
      "  INTERLEAVE=BAND\r\n",
      "Corner Coordinates:\r\n",
      "Upper Left  (-2356170.000, 3179430.000) (127d55' 4.90\"W, 48d 0'59.81\"N)\r\n",
      "Lower Left  (-2356170.000,  273060.000) (118d44'41.85\"W, 22d54'20.28\"N)\r\n",
      "Upper Right ( 2258760.000, 3179430.000) ( 65d18'35.89\"W, 48d18' 9.12\"N)\r\n",
      "Lower Right ( 2258760.000,  273060.000) ( 74d 9'43.04\"W, 23d 6'50.28\"N)\r\n",
      "Center      (  -48705.000, 1726245.000) ( 96d33'51.37\"W, 38d33'52.31\"N)\r\n",
      "Band 1 Block=128x128 Type=Float32, ColorInterp=Gray\r\n",
      "  Min=2.834 Max=116.685 \r\n",
      "  Minimum=2.834, Maximum=116.685, Mean=12.258, StdDev=3.167\r\n",
      "  NoData Value=-3.40282299999999995e+38\r\n",
      "  Overviews: 76916x48440, 38458x24220, 19229x12110, 9615x6055, 4808x3028, 2404x1514, 1202x757, 601x379, 301x190\r\n",
      "  Metadata:\r\n",
      "    SourceBandIndex=0\r\n",
      "    STATISTICS_COVARIANCES=10.02840183807208\r\n",
      "    STATISTICS_MAXIMUM=116.68483734131\r\n",
      "    STATISTICS_MEAN=12.257564525584\r\n",
      "    STATISTICS_MINIMUM=2.8336203098297\r\n",
      "    STATISTICS_SKIPFACTORX=1\r\n",
      "    STATISTICS_SKIPFACTORY=1\r\n",
      "    STATISTICS_STDDEV=3.1667652009696\r\n"
     ]
    }
   ],
   "source": [
    "!gdalinfo /home/ubuntu/tosync/in0/cflux/compound_topographic_index.tif"
   ]
  },
  {
   "cell_type": "code",
   "execution_count": 15,
   "metadata": {},
   "outputs": [
    {
     "name": "stdout",
     "output_type": "stream",
     "text": [
      "/home/ubuntu/tosync/in0/cflux/compound_topographic_index_cog.tif is a valid cloud optimized GeoTIFF\r\n",
      "\r\n",
      "The size of all IFD headers is 972600280 bytes\r\n"
     ]
    }
   ],
   "source": [
    "!python3 ./Misc_Files/validate_cloud_optimized_geotiff.py /home/ubuntu/tosync/in0/cflux/compound_topographic_index_cog.tif"
   ]
  },
  {
   "cell_type": "code",
   "execution_count": 8,
   "metadata": {},
   "outputs": [
    {
     "name": "stdout",
     "output_type": "stream",
     "text": [
      "/vsis3/eco-w1/in1/Cflux_Cog/CONUS_dem_cog.tif is a valid cloud optimized GeoTIFF\r\n",
      "\r\n",
      "The size of all IFD headers is 7567518 bytes\r\n"
     ]
    }
   ],
   "source": [
    "!python3 ./Misc_Files/validate_cloud_optimized_geotiff.py /vsis3/eco-w1/in1/Cflux_Cog/CONUS_dem_cog.tif"
   ]
  },
  {
   "cell_type": "code",
   "execution_count": null,
   "metadata": {},
   "outputs": [],
   "source": []
  }
 ],
 "metadata": {
  "kernelspec": {
   "display_name": "Python 3",
   "language": "python",
   "name": "python3"
  },
  "language_info": {
   "codemirror_mode": {
    "name": "ipython",
    "version": 3
   },
   "file_extension": ".py",
   "mimetype": "text/x-python",
   "name": "python",
   "nbconvert_exporter": "python",
   "pygments_lexer": "ipython3",
   "version": "3.7.3"
  }
 },
 "nbformat": 4,
 "nbformat_minor": 4
}
