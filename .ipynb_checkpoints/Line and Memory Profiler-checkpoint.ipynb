{
 "cells": [
  {
   "cell_type": "markdown",
   "id": "second-balloon",
   "metadata": {},
   "source": [
    "# Line and Memory Profiler\n",
    "### Line profiler (see percent time taken on certain line in python code)"
   ]
  },
  {
   "cell_type": "code",
   "execution_count": 2,
   "id": "rough-nomination",
   "metadata": {},
   "outputs": [
    {
     "name": "stdout",
     "output_type": "stream",
     "text": [
      "4\n",
      "4\n",
      "4\n",
      "Timer unit: 1e-06 s\n",
      "\n",
      "Total time: 0.000284 s\n",
      "File: <ipython-input-2-49b98002a4fe>\n",
      "Function: multiply at line 2\n",
      "\n",
      "Line #      Hits         Time  Per Hit   % Time  Line Contents\n",
      "==============================================================\n",
      "     2                                           def multiply(numbers):\n",
      "     3         4          5.0      1.2      1.8      for number in numbers:\n",
      "     4         3        279.0     93.0     98.2          print(2 * number)\n",
      "\n"
     ]
    }
   ],
   "source": [
    "from line_profiler import LineProfiler\n",
    "def multiply(numbers):\n",
    "    for number in numbers:\n",
    "        print(2 * number)\n",
    "numbers = [2, 2, 2]\n",
    "lp = LineProfiler()\n",
    "lp_wrapper = lp(multiply)\n",
    "lp_wrapper(numbers)\n",
    "lp.print_stats()"
   ]
  },
  {
   "cell_type": "markdown",
   "id": "complete-entrepreneur",
   "metadata": {},
   "source": [
    "### Memory profiler (checks memory usage in each line of code)\n",
    "### Run with !python3 -m memory_profiler test.py (havent seen how to do with jupyter)"
   ]
  },
  {
   "cell_type": "code",
   "execution_count": 4,
   "id": "proper-gossip",
   "metadata": {},
   "outputs": [
    {
     "name": "stdout",
     "output_type": "stream",
     "text": [
      "ERROR: Could not find file <ipython-input-4-dc015de74920>\n",
      "NOTE: %mprun can only be used on functions defined in physical files, and not in the IPython environment.\n",
      "4\n",
      "4\n",
      "4\n"
     ]
    }
   ],
   "source": [
    "# Move this to test.py file\n",
    "from memory_profiler import profile\n",
    "@profile\n",
    "def multiply(numbers):\n",
    "    for number in numbers:\n",
    "        print(2 * number)\n",
    "numbers = [2, 2, 2]\n",
    "multiply(numbers)"
   ]
  },
  {
   "cell_type": "code",
   "execution_count": 5,
   "id": "responsible-reward",
   "metadata": {},
   "outputs": [
    {
     "name": "stdout",
     "output_type": "stream",
     "text": [
      "Could not find script test.py\r\n"
     ]
    }
   ],
   "source": [
    "!python3 -m memory_profiler test.py"
   ]
  },
  {
   "cell_type": "code",
   "execution_count": null,
   "id": "dynamic-spring",
   "metadata": {},
   "outputs": [],
   "source": []
  }
 ],
 "metadata": {
  "kernelspec": {
   "display_name": "Python 3",
   "language": "python",
   "name": "python3"
  },
  "language_info": {
   "codemirror_mode": {
    "name": "ipython",
    "version": 3
   },
   "file_extension": ".py",
   "mimetype": "text/x-python",
   "name": "python",
   "nbconvert_exporter": "python",
   "pygments_lexer": "ipython3",
   "version": "3.7.9"
  }
 },
 "nbformat": 4,
 "nbformat_minor": 5
}
