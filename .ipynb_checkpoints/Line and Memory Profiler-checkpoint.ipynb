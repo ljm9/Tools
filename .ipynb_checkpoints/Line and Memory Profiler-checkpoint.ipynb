{
 "cells": [
  {
   "cell_type": "markdown",
   "id": "varied-oriental",
   "metadata": {},
   "source": [
    "# Line and Memory Profiler\n",
    "### Line profiler (see percent time taken on certain line in python code)"
   ]
  },
  {
   "cell_type": "code",
   "execution_count": 2,
   "id": "strong-tunisia",
   "metadata": {},
   "outputs": [
    {
     "name": "stdout",
     "output_type": "stream",
     "text": [
      "4\n",
      "4\n",
      "4\n",
      "Timer unit: 1e-06 s\n",
      "\n",
      "Total time: 0.000284 s\n",
      "File: <ipython-input-2-49b98002a4fe>\n",
      "Function: multiply at line 2\n",
      "\n",
      "Line #      Hits         Time  Per Hit   % Time  Line Contents\n",
      "==============================================================\n",
      "     2                                           def multiply(numbers):\n",
      "     3         4          5.0      1.2      1.8      for number in numbers:\n",
      "     4         3        279.0     93.0     98.2          print(2 * number)\n",
      "\n"
     ]
    }
   ],
   "source": [
    "from line_profiler import LineProfiler\n",
    "\n",
    "def multiply(numbers):\n",
    "    for number in numbers:\n",
    "        print(2 * number)\n",
    "numbers = [2, 2, 2]\n",
    "\n",
    "lp = LineProfiler()\n",
    "lp_wrapper = lp(multiply)\n",
    "lp_wrapper(numbers)\n",
    "lp.print_stats()"
   ]
  },
  {
   "cell_type": "markdown",
   "id": "polyphonic-boards",
   "metadata": {},
   "source": [
    "### Memory profiler (checks memory usage in each line of code)\n",
    "### Run with !python3 -m memory_profiler test.py (havent seen how to do with jupyter)"
   ]
  },
  {
   "cell_type": "code",
   "execution_count": 4,
   "id": "informal-barbados",
   "metadata": {},
   "outputs": [
    {
     "name": "stdout",
     "output_type": "stream",
     "text": [
      "ERROR: Could not find file <ipython-input-4-dc015de74920>\n",
      "NOTE: %mprun can only be used on functions defined in physical files, and not in the IPython environment.\n",
      "4\n",
      "4\n",
      "4\n"
     ]
    }
   ],
   "source": [
    "# Move this to test.py file\n",
    "from memory_profiler import profile\n",
    "@profile\n",
    "def multiply(numbers):\n",
    "    for number in numbers:\n",
    "        print(2 * number)\n",
    "numbers = [2, 2, 2]\n",
    "multiply(numbers)"
   ]
  },
  {
   "cell_type": "code",
   "execution_count": 5,
   "id": "bright-transsexual",
   "metadata": {},
   "outputs": [
    {
     "name": "stdout",
     "output_type": "stream",
     "text": [
      "Could not find script test.py\r\n"
     ]
    }
   ],
   "source": [
    "!python3 -m memory_profiler test.py"
   ]
  },
  {
   "cell_type": "markdown",
   "id": "velvet-hospital",
   "metadata": {},
   "source": [
    "# Multiprocessor"
   ]
  },
  {
   "cell_type": "code",
   "execution_count": 1,
   "id": "conditional-greek",
   "metadata": {},
   "outputs": [],
   "source": [
    "import multiprocessing as mp"
   ]
  },
  {
   "cell_type": "code",
   "execution_count": 2,
   "id": "photographic-insider",
   "metadata": {},
   "outputs": [],
   "source": [
    "List = [2, 3 , 5, 8 , 10, 20, 30, 50, 100, 78, 115, 88, 90]\n",
    "global Final\n",
    "Final = []"
   ]
  },
  {
   "cell_type": "code",
   "execution_count": 3,
   "id": "portable-scanner",
   "metadata": {},
   "outputs": [],
   "source": [
    "def multiply(x):\n",
    "    output = [\"{}:\".format(x)]\n",
    "    number = x * x\n",
    "    output.append(\"[Process {}] in multiply {}\".format(x, number))\n",
    "    return \"\\n\".join(output)"
   ]
  },
  {
   "cell_type": "code",
   "execution_count": 4,
   "id": "rural-march",
   "metadata": {},
   "outputs": [
    {
     "name": "stdout",
     "output_type": "stream",
     "text": [
      "Available CPU's:  8\n",
      "Using CPU's:  7\n",
      "[MAIN]: Process finished, response: 2:\n",
      "[Process 2] in multiply 4\n",
      "[MAIN]: Process finished, response: 3:\n",
      "[Process 3] in multiply 9\n",
      "[MAIN]: Process finished, response: 5:\n",
      "[Process 5] in multiply 25\n",
      "[MAIN]: Process finished, response: 8:\n",
      "[Process 8] in multiply 64\n",
      "[MAIN]: Process finished, response: 10:\n",
      "[Process 10] in multiply 100\n",
      "[MAIN]: Process finished, response: 20:\n",
      "[Process 20] in multiply 400\n",
      "[MAIN]: Process finished, response: 30:\n",
      "[Process 30] in multiply 900\n",
      "[MAIN]: Process finished, response: 50:\n",
      "[Process 50] in multiply 2500\n",
      "[MAIN]: Process finished, response: 100:\n",
      "[Process 100] in multiply 10000\n",
      "[MAIN]: Process finished, response: 78:\n",
      "[Process 78] in multiply 6084\n",
      "[MAIN]: Process finished, response: 115:\n",
      "[Process 115] in multiply 13225\n",
      "[MAIN]: Process finished, response: 88:\n",
      "[Process 88] in multiply 7744\n",
      "[MAIN]: Process finished, response: 90:\n",
      "[Process 90] in multiply 8100\n"
     ]
    }
   ],
   "source": [
    "if __name__ == '__main__':\n",
    "    count = mp.cpu_count()\n",
    "    print(\"Available CPU's: \", count)\n",
    "    count = count - 1\n",
    "    print(\"Using CPU's: \", count)\n",
    "    pool = mp.Pool(processes=count)\n",
    "    #pool.map(multiply, List)\n",
    "    for res in pool.map(multiply, List):\n",
    "        print(\"[MAIN]: Process finished, response:\", res)\n",
    "    pool.close()"
   ]
  },
  {
   "cell_type": "code",
   "execution_count": null,
   "id": "upper-housing",
   "metadata": {},
   "outputs": [],
   "source": []
  }
 ],
 "metadata": {
  "kernelspec": {
   "display_name": "Python 3",
   "language": "python",
   "name": "python3"
  },
  "language_info": {
   "codemirror_mode": {
    "name": "ipython",
    "version": 3
   },
   "file_extension": ".py",
   "mimetype": "text/x-python",
   "name": "python",
   "nbconvert_exporter": "python",
   "pygments_lexer": "ipython3",
   "version": "3.7.9"
  }
 },
 "nbformat": 4,
 "nbformat_minor": 5
}
