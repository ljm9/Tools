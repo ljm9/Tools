{
 "cells": [
  {
   "cell_type": "markdown",
   "metadata": {},
   "source": [
    "# Copy, crop, compress, transform, create cog\n",
    "## Import gdalfor translate and transforms\n",
    "## s3 for aws interaction"
   ]
  },
  {
   "cell_type": "code",
   "execution_count": 1,
   "metadata": {},
   "outputs": [],
   "source": [
    "import gdal\n",
    "import boto3, os\n",
    "s3 =boto3.resource('s3')"
   ]
  },
  {
   "cell_type": "markdown",
   "metadata": {},
   "source": [
    "### Copies file from s3 to location"
   ]
  },
  {
   "cell_type": "code",
   "execution_count": null,
   "metadata": {},
   "outputs": [],
   "source": [
    "#!aws s3 cp s3://eco-w1/in0/cflux/CONUS_aspect.cog ./Copy_aspect.cog"
   ]
  },
  {
   "cell_type": "markdown",
   "metadata": {},
   "source": [
    "### warp to cutline cuts tif by edge of geojson\n",
    "### used to view small scale data"
   ]
  },
  {
   "cell_type": "code",
   "execution_count": 2,
   "metadata": {},
   "outputs": [],
   "source": [
    "#!gdalwarp -cutline ./Misc_Files/map_lake.geojson -crop_to_cutline -of GTiff /vsis3/eco-w1/in1/Cflux_Cog/sand_0_30_cm_weighted_mean_cog.tif ./2011sand.tif"
   ]
  },
  {
   "cell_type": "markdown",
   "metadata": {},
   "source": [
    "### translates file to a compressed 20, 20 file\n",
    "### used to view full tiff with larger pixels"
   ]
  },
  {
   "cell_type": "code",
   "execution_count": 5,
   "metadata": {},
   "outputs": [
    {
     "name": "stdout",
     "output_type": "stream",
     "text": [
      "ERROR 4: /home/ubuntu/tosync/in1/TPI_2000m_cog.tif: No such file or directory\r\n"
     ]
    }
   ],
   "source": [
    "#!gdal_translate -co BIGTIFF=YES -co COMPRESS=LZW -outsize 20% 20% /home/ubuntu/tosync/in1/TPI_2000m_cog.tif ./TPI_2020.tif"
   ]
  },
  {
   "cell_type": "markdown",
   "metadata": {},
   "source": [
    "### Change EPSG (transform)"
   ]
  },
  {
   "cell_type": "code",
   "execution_count": null,
   "metadata": {},
   "outputs": [],
   "source": [
    "#!sudo gdalwarp -t_srs EPSG:4326 ./CONUS_slope.tif ./CONUS_slope2.tif"
   ]
  }
 ],
 "metadata": {
  "kernelspec": {
   "display_name": "Python 3",
   "language": "python",
   "name": "python3"
  },
  "language_info": {
   "codemirror_mode": {
    "name": "ipython",
    "version": 3
   },
   "file_extension": ".py",
   "mimetype": "text/x-python",
   "name": "python",
   "nbconvert_exporter": "python",
   "pygments_lexer": "ipython3",
   "version": "3.7.9"
  }
 },
 "nbformat": 4,
 "nbformat_minor": 4
}
