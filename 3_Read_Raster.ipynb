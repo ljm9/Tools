{
 "cells": [
  {
   "cell_type": "markdown",
   "metadata": {},
   "source": [
    "# Read Raster"
   ]
  },
  {
   "cell_type": "markdown",
   "metadata": {},
   "source": [
    "### Import gdal (need /vsis3/ instead of s3:// to view tifs in gdal)\n",
    "### boto3 s3 to view s3 files in rio\n",
    "### ! is for processes used in the command prompt"
   ]
  },
  {
   "cell_type": "code",
   "execution_count": 1,
   "metadata": {},
   "outputs": [],
   "source": [
    "import gdal\n",
    "import boto3, os\n",
    "s3 =boto3.resource('s3')"
   ]
  },
  {
   "cell_type": "markdown",
   "metadata": {},
   "source": [
    "### rio info [filelocation] | python -m json.tool"
   ]
  },
  {
   "cell_type": "code",
   "execution_count": 2,
   "metadata": {
    "scrolled": true
   },
   "outputs": [
    {
     "name": "stdout",
     "output_type": "stream",
     "text": [
      "{\r\n",
      "    \"blockxsize\": 512,\r\n",
      "    \"blockysize\": 512,\r\n",
      "    \"bounds\": [\r\n",
      "        -130.23282801580848,\r\n",
      "        21.74214873297863,\r\n",
      "        -63.67216518454606,\r\n",
      "        52.87693879284186\r\n",
      "    ],\r\n",
      "    \"colorinterp\": [\r\n",
      "        \"gray\"\r\n",
      "    ],\r\n",
      "    \"compress\": \"deflate\",\r\n",
      "    \"count\": 1,\r\n",
      "    \"crs\": \"EPSG:4326\",\r\n",
      "    \"descriptions\": [\r\n",
      "        \"Layer_1\"\r\n",
      "    ],\r\n",
      "    \"driver\": \"GTiff\",\r\n",
      "    \"dtype\": \"float32\",\r\n",
      "    \"height\": 95543,\r\n",
      "    \"indexes\": [\r\n",
      "        1\r\n",
      "    ],\r\n",
      "    \"interleave\": \"band\",\r\n",
      "    \"lnglat\": [\r\n",
      "        -96.95249660017727,\r\n",
      "        37.309543762910245\r\n",
      "    ],\r\n",
      "    \"mask_flags\": [\r\n",
      "        [\r\n",
      "            \"all_valid\"\r\n",
      "        ]\r\n",
      "    ],\r\n",
      "    \"nodata\": null,\r\n",
      "    \"res\": [\r\n",
      "        0.0003258720163681613,\r\n",
      "        0.0003258720163681613\r\n",
      "    ],\r\n",
      "    \"shape\": [\r\n",
      "        95543,\r\n",
      "        204254\r\n",
      "    ],\r\n",
      "    \"tiled\": true,\r\n",
      "    \"transform\": [\r\n",
      "        0.0003258720163681613,\r\n",
      "        0.0,\r\n",
      "        -130.23282801580848,\r\n",
      "        0.0,\r\n",
      "        -0.0003258720163681613,\r\n",
      "        52.87693879284186,\r\n",
      "        0.0,\r\n",
      "        0.0,\r\n",
      "        1.0\r\n",
      "    ],\r\n",
      "    \"units\": [\r\n",
      "        null\r\n",
      "    ],\r\n",
      "    \"width\": 204254\r\n",
      "}\r\n"
     ]
    }
   ],
   "source": [
    "! rio info s3://eco-w1/in1/Cflux_Cog/CONUS_dem_cog.tif | python -m json.tool"
   ]
  },
  {
   "cell_type": "code",
   "execution_count": 3,
   "metadata": {},
   "outputs": [
    {
     "name": "stdout",
     "output_type": "stream",
     "text": [
      "    \"shape\": [\r\n",
      "        95543,\r\n",
      "        204254\r\n"
     ]
    }
   ],
   "source": [
    "! rio info s3://eco-w1/in1/Cflux_Cog/CONUS_dem_cog.tif | python -m json.tool | grep shape -A2"
   ]
  },
  {
   "cell_type": "markdown",
   "metadata": {},
   "source": [
    "### gdal info = reads info (gdalinfo [filelocation]) (needs vsis3 if on s3 bucket)"
   ]
  },
  {
   "cell_type": "code",
   "execution_count": 13,
   "metadata": {},
   "outputs": [
    {
     "name": "stdout",
     "output_type": "stream",
     "text": [
      "Driver: GTiff/GeoTIFF\n",
      "Files: /vsis3/eco-w1/in1/Cflux_Cog/CONUS_dem_cog.tif\n",
      "Size is 204254, 95543\n",
      "Coordinate System is:\n",
      "GEOGCS[\"WGS 84\",\n",
      "    DATUM[\"WGS_1984\",\n",
      "        SPHEROID[\"WGS 84\",6378137,298.257223563,\n",
      "            AUTHORITY[\"EPSG\",\"7030\"]],\n",
      "        AUTHORITY[\"EPSG\",\"6326\"]],\n",
      "    PRIMEM[\"Greenwich\",0],\n",
      "    UNIT[\"degree\",0.0174532925199433],\n",
      "    AUTHORITY[\"EPSG\",\"4326\"]]\n",
      "Origin = (-130.232828015808479,52.876938792841862)\n",
      "Pixel Size = (0.000325872016368,-0.000325872016368)\n",
      "Metadata:\n",
      "  AREA_OR_POINT=Area\n",
      "  OVR_RESAMPLING_ALG=NEAREST\n",
      "Image Structure Metadata:\n",
      "  COMPRESSION=DEFLATE\n",
      "  INTERLEAVE=BAND\n",
      "Corner Coordinates:\n",
      "Upper Left  (-130.2328280,  52.8769388) (130d13'58.18\"W, 52d52'36.98\"N)\n",
      "Lower Left  (-130.2328280,  21.7421487) (130d13'58.18\"W, 21d44'31.74\"N)\n",
      "Upper Right ( -63.6721652,  52.8769388) ( 63d40'19.79\"W, 52d52'36.98\"N)\n",
      "Lower Right ( -63.6721652,  21.7421487) ( 63d40'19.79\"W, 21d44'31.74\"N)\n",
      "Center      ( -96.9524966,  37.3095438) ( 96d57' 8.99\"W, 37d18'34.36\"N)\n",
      "Band 1 Block=512x512 Type=Float32, ColorInterp=Gray\n",
      "  Description = Layer_1\n",
      "  Overviews: 102127x47772, 51064x23886, 25532x11943, 12766x5972, 6383x2986, 3192x1493, 1596x747, 798x374\n"
     ]
    }
   ],
   "source": [
    "!gdalinfo /vsis3/eco-w1/in1/Cflux_Cog/CONUS_dem_cog.tif"
   ]
  },
  {
   "cell_type": "markdown",
   "metadata": {},
   "source": [
    "###  python3 cog.py [file] \n",
    "### = shows if cog is in correct format. (correct path to ./Misc_Files/validate_cloud_optimized_geotiff.py)"
   ]
  },
  {
   "cell_type": "code",
   "execution_count": 16,
   "metadata": {
    "scrolled": true
   },
   "outputs": [
    {
     "name": "stdout",
     "output_type": "stream",
     "text": [
      "/vsis3/eco-w1/in1/Cflux_Cog/CONUS_dem_cog.tif is a valid cloud optimized GeoTIFF\r\n",
      "\r\n",
      "The size of all IFD headers is 7567518 bytes\r\n"
     ]
    }
   ],
   "source": [
    "!python3 ./Misc_Files/validate_cloud_optimized_geotiff.py /vsis3/eco-w1/in1/Cflux_Cog/CONUS_dem_cog.tif"
   ]
  },
  {
   "cell_type": "code",
   "execution_count": null,
   "metadata": {},
   "outputs": [],
   "source": []
  }
 ],
 "metadata": {
  "kernelspec": {
   "display_name": "Python 3",
   "language": "python",
   "name": "python3"
  },
  "language_info": {
   "codemirror_mode": {
    "name": "ipython",
    "version": 3
   },
   "file_extension": ".py",
   "mimetype": "text/x-python",
   "name": "python",
   "nbconvert_exporter": "python",
   "pygments_lexer": "ipython3",
   "version": "3.7.9"
  }
 },
 "nbformat": 4,
 "nbformat_minor": 4
}
