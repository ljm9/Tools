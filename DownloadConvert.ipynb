{
 "cells": [
  {
   "cell_type": "code",
   "execution_count": 1,
   "metadata": {},
   "outputs": [],
   "source": [
    "import s3fs \n",
    "import boto3\n",
    "import zipfile\n",
    "import os\n",
    "s3 =boto3.resource('s3')"
   ]
  },
  {
   "cell_type": "code",
   "execution_count": null,
   "metadata": {},
   "outputs": [],
   "source": [
    "!sudo pip3 install rio"
   ]
  },
  {
   "cell_type": "code",
   "execution_count": null,
   "metadata": {},
   "outputs": [],
   "source": [
    "!aws s3 ls eco-w1/in0/mrlc_zip/"
   ]
  },
  {
   "cell_type": "code",
   "execution_count": null,
   "metadata": {},
   "outputs": [],
   "source": [
    "import shutil"
   ]
  },
  {
   "cell_type": "code",
   "execution_count": null,
   "metadata": {},
   "outputs": [],
   "source": [
    "s3 = s3fs.S3FileSystem()\n",
    "bucket_path='eco-w1/in0/'\n",
    "s3.ls(bucket_path)"
   ]
  },
  {
   "cell_type": "code",
   "execution_count": null,
   "metadata": {},
   "outputs": [],
   "source": [
    "bucket_path='eco-w1/in0/mrlc_zip'\n",
    "\n",
    "mrlc_files=s3.ls(bucket_path)"
   ]
  },
  {
   "cell_type": "code",
   "execution_count": null,
   "metadata": {},
   "outputs": [],
   "source": [
    "for file_obj in mrlc_files:\n",
    "    if 'Annual' in file_obj:\n",
    "        print(file_obj)"
   ]
  },
  {
   "cell_type": "code",
   "execution_count": null,
   "metadata": {},
   "outputs": [],
   "source": [
    "!sudo aws s3 sync s3://eco-w1/in1/mrlc_cog/ /home/ubuntu/tosync/in0/"
   ]
  },
  {
   "cell_type": "code",
   "execution_count": null,
   "metadata": {},
   "outputs": [],
   "source": [
    "folder = '/home/ubuntu/tosync/in0'\n",
    "outfolder = \"/home/ubuntu/tosync/in1\""
   ]
  },
  {
   "cell_type": "code",
   "execution_count": null,
   "metadata": {},
   "outputs": [],
   "source": [
    "tif_output_dir = folder\n",
    "cog_output_dir = outfolder\n",
    "    #!gdalwarp -t_srs EPSG:4326 file outfolder\n",
    "files = os.listdir(tif_output_dir)\n",
    "for file in files:\n",
    "    if(file.endswith('.tif')):\n",
    "        infile = f'{folder}/{file}'\n",
    "        outfile = f'{outfolder}/{file}'\n",
    "        print(infile, outfile)\n",
    "        !sudo gdalwarp -t_srs EPSG:4326 infile outfile"
   ]
  },
  {
   "cell_type": "code",
   "execution_count": 16,
   "metadata": {},
   "outputs": [
    {
     "name": "stdout",
     "output_type": "stream",
     "text": [
      "Copying color table from /home/ubuntu/tosync/in0/nlcd_anhb_2004_mos_v1.tif to new file.\n",
      "Creating output file that is 95111P x 82720L.\n",
      "Processing /home/ubuntu/tosync/in0/nlcd_anhb_2004_mos_v1.tif [1/1] : 0...10...20...30...40...50...60...70...80...90...100 - done.\n"
     ]
    }
   ],
   "source": [
    "!sudo gdalwarp -t_srs EPSG:4326 /home/ubuntu/tosync/in0/nlcd_anhb_2004_mos_v1.tif /home/ubuntu/tosync/in1/nlcd_anhb_2004_mos_v1.tif"
   ]
  },
  {
   "cell_type": "code",
   "execution_count": null,
   "metadata": {},
   "outputs": [],
   "source": []
  }
 ],
 "metadata": {
  "kernelspec": {
   "display_name": "Python 3",
   "language": "python",
   "name": "python3"
  },
  "language_info": {
   "codemirror_mode": {
    "name": "ipython",
    "version": 3
   },
   "file_extension": ".py",
   "mimetype": "text/x-python",
   "name": "python",
   "nbconvert_exporter": "python",
   "pygments_lexer": "ipython3",
   "version": "3.7.9"
  }
 },
 "nbformat": 4,
 "nbformat_minor": 4
}
